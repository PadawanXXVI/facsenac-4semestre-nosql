{
 "cells": [
  {
   "cell_type": "markdown",
   "id": "1be49bc3",
   "metadata": {},
   "source": [
    "Faculdade de Tecnologia e Inovações Senac DF  \n",
    "Brasília, 12 de agosto de 2025  \n",
    "Anderson de Matos Guimarães  \n"
   ]
  },
  {
   "cell_type": "markdown",
   "id": "2f5b97c0",
   "metadata": {},
   "source": [
    "# 🎲 INTRODUÇÃO A BANCO DE DADOS NÃO RELACIONAIS\n",
    "\n"
   ]
  },
  {
   "cell_type": "markdown",
   "id": "fbb7e6b5",
   "metadata": {},
   "source": [
    "## 1 Introdução\n",
    "\n",
    "### 1.1 História dos Bancos de Dados\n",
    "\n",
    "### 1.2 Relacional X NoSQL\n",
    "\n",
    "### 1.3 Relacional ➡️ Propriedade ACID\n",
    "\n",
    "- Atomicidade\n",
    "- Consistência\n",
    "- Isolamento\n",
    "- Durabilidade\n",
    "\n",
    "### 1.4 NoSQL\n",
    "\n",
    "- Consistência\n",
    "- Disponibilidade\n",
    "- Tolerância de partição\n",
    "\n",
    "### 1.5 Comparação entre Relacional e NoSQL\n",
    "\n"
   ]
  }
 ],
 "metadata": {
  "language_info": {
   "name": "python"
  }
 },
 "nbformat": 4,
 "nbformat_minor": 5
}
